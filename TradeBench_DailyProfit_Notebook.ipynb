{
 "metadata": {
  "language_info": {
   "codemirror_mode": {
    "name": "ipython",
    "version": 3
   },
   "file_extension": ".py",
   "mimetype": "text/x-python",
   "name": "python",
   "nbconvert_exporter": "python",
   "pygments_lexer": "ipython3",
   "version": "3.7.6-final"
  },
  "orig_nbformat": 2,
  "kernelspec": {
   "name": "python_defaultSpec_1600337501470",
   "display_name": "Python 3.7.6 64-bit ('anaconda3': virtualenv)"
  }
 },
 "nbformat": 4,
 "nbformat_minor": 2,
 "cells": [
  {
   "cell_type": "markdown",
   "metadata": {},
   "source": [
    " # Daily Profit for Trades in TradeBench"
   ]
  },
  {
   "cell_type": "code",
   "execution_count": 89,
   "metadata": {
    "tags": []
   },
   "outputs": [
    {
     "output_type": "stream",
     "name": "stdout",
     "text": "Python Version: 3.7.6 (default, Jan  8 2020, 13:42:34) \n[Clang 4.0.1 (tags/RELEASE_401/final)]\nPandas Version: 1.0.1\nMatplotlib Version: 3.1.3\n"
    }
   ],
   "source": [
    "import numpy as np\n",
    "import pandas as pd\n",
    "import matplotlib.pyplot as plt\n",
    "import sys  # Only needed to determine Python version\n",
    "import matplotlib  # Only needed to determine Matplotlib version number\n",
    "import chardet\n",
    "from datetime import date\n",
    "from pandas import DataFrame\n",
    "from scipy import stats\n",
    "import seaborn as sns\n",
    "\n",
    "# Enable inline plotting\n",
    "# %matplotlib inline\n",
    "\n",
    "print('Python Version: ' + sys.version)\n",
    "print('Pandas Version: ' + pd.__version__)\n",
    "print('Matplotlib Version: ' + matplotlib.__version__)"
   ]
  },
  {
   "cell_type": "code",
   "execution_count": 90,
   "metadata": {
    "tags": []
   },
   "outputs": [
    {
     "output_type": "stream",
     "name": "stdout",
     "text": "Index(['Symbol', 'Name', 'Long/Short', 'Plan Date', 'Entry (first) Date',\n       'Entry (first) Time', 'Exit (last) Date', 'Exit (last) Time',\n       'Quantity', 'Avg. Entry', 'Avg. Exit', 'Entry Commission',\n       'Exit Commission', 'Net P/L Amount', 'Net P/L %', 'Broker', 'Strategy',\n       'Planned Stop Loss Price', 'First Stop Loss Price',\n       'Trade Plan Description', 'Post Trade Analysis', 'Label 1', 'Label 2',\n       'Label 3', 'Label 4', 'Label 5'],\n      dtype='object')\n"
    }
   ],
   "source": [
    "#/Users/<USERNAME>/<CSV_LOCATION>.csv\n",
    "CSV_Location = r'/Users/Pho/Documents/Dev/DayTrading/TradingAnalysisScripts/TradeBenchCSV/2020-09-17-TradeBench-closed-trades-export.csv'\n",
    "\n",
    "df = pd.read_csv(CSV_Location, encoding = \"ISO-8859-1\")\n",
    "\n",
    "# del df[\"Post Trade Analysis\"]\n",
    "\n",
    "print(df.columns)"
   ]
  },
  {
   "cell_type": "code",
   "execution_count": 91,
   "metadata": {
    "tags": []
   },
   "outputs": [
    {
     "output_type": "stream",
     "name": "stdout",
     "text": "0    2020-08-10 14:37:00\n1    2020-08-10 15:26:00\n2    2020-08-11 14:41:00\n3    2020-08-11 14:46:00\n4    2020-08-11 14:54:00\n             ...        \n69   2020-09-15 16:01:00\n70   2020-09-16 14:43:00\n71   2020-09-16 14:48:00\n72   2020-09-16 15:13:00\n73   2020-09-16 15:22:00\nName: Entry Date, Length: 74, dtype: datetime64[ns]\n"
    }
   ],
   "source": [
    "# Combine dates and times together\n",
    "df[\"Entry Date\"] = df[\"Entry (first) Date\"].astype(str) + \" \" + df[\"Entry (first) Time\"].astype(str)\n",
    "df[\"Exit Date\"] = df[\"Exit (last) Date\"].astype(str) + \" \" + df[\"Exit (last) Time\"].astype(str)\n",
    "\n",
    "df[\"Entry Date\"] = df[\"Entry Date\"].astype(str)\n",
    "#print(df[\"Entry Date\"])\n",
    "\n",
    "Location2 = f'/Users/Pho/Documents/Dev/DayTrading/TradingAnalysisScripts/TradeBenchCSV/ting2.csv'\n",
    "df.to_csv(Location2)\n",
    "\n",
    "df[\"Entry Date\"] = pd.to_datetime(df[\"Entry Date\"], format=\"%d/%m/%Y %H:%M:%S\")\n",
    "df[\"Exit Date\"] = pd.to_datetime(df[\"Exit Date\"], format=\"%d/%m/%Y %H:%M:%S\")\n",
    "\n",
    "#print(df.info(verbose = True))\n",
    "print(df[\"Entry Date\"])"
   ]
  },
  {
   "cell_type": "code",
   "execution_count": 92,
   "metadata": {
    "tags": []
   },
   "outputs": [
    {
     "output_type": "stream",
     "name": "stdout",
     "text": "count    sum       mean  median             mode    ptp      iqr  \\\nEntry Date                                                                     \n2020-08-10    2.0  -6.92  -3.460000  -3.460  ([-20.55], [1])  34.18  17.0900   \n2020-08-11    4.0  16.21   4.052500   4.790    ([0.62], [1])   5.39   1.8725   \n2020-08-12    4.0  23.69   5.922500   8.370  ([-27.09], [1])  61.13  28.3625   \n2020-08-14    1.0   1.05   1.050000   1.050    ([1.05], [1])   0.00   0.0000   \n2020-08-17    4.0 -26.93  -6.732500  -0.765   ([-25.7], [1])  26.00   7.1825   \n2020-08-18    5.0  20.35   4.070000  -2.950  ([-28.39], [1])  73.84  55.0600   \n2020-08-24    1.0  53.22  53.220000  53.220   ([53.22], [1])   0.00   0.0000   \n2020-08-25    2.0  43.11  21.555000  21.555    ([0.41], [1])  42.29  21.1450   \n2020-08-26    3.0 -53.85 -17.950000 -25.390  ([-25.51], [1])  22.56  11.2800   \n2020-08-28    4.0  -7.64  -1.910000  -6.090  ([-25.75], [1])  56.04  43.3200   \n2020-09-01    1.0  45.66  45.660000  45.660   ([45.66], [1])   0.00   0.0000   \n2020-09-03    3.0  36.98  12.326667   7.490    ([6.68], [1])  16.13   8.0650   \n2020-09-08    2.0  32.45  16.225000  16.225   ([15.16], [1])   2.13   1.0650   \n2020-09-09    4.0 -64.55 -16.137500 -14.995  ([-30.51], [1])  26.46  17.8725   \n2020-09-10    4.0  33.84   8.460000   9.230    ([4.45], [1])   6.48   2.7000   \n2020-09-11    3.0 -42.05 -14.016667 -25.750  ([-26.05], [1])  35.80  17.9000   \n2020-09-14   11.0  32.22   2.929091   7.450  ([-28.48], [1])  73.15  29.9900   \n2020-09-15    5.0  -3.88  -0.776000   1.950  ([-27.31], [1])  54.15  45.9800   \n2020-09-16    4.0 -64.13 -16.032500 -16.545  ([-33.55], [1])  36.06  23.0625   \n\n                  std    min    max  \nEntry Date                           \n2020-08-10  24.168910 -20.55  13.63  \n2020-08-11   2.376740   0.62   6.01  \n2020-08-12  26.105403 -27.09  34.04  \n2020-08-14        NaN   1.05   1.05  \n2020-08-17  12.660414 -25.70   0.30  \n2020-08-18  32.912168 -28.39  45.45  \n2020-08-24        NaN  53.22  53.22  \n2020-08-25  29.903546   0.41  42.70  \n2020-08-26  12.990520 -25.51  -2.95  \n2020-08-28  28.306381 -25.75  30.29  \n2020-09-01        NaN  45.66  45.66  \n2020-09-03   9.087862   6.68  22.81  \n2020-09-08   1.506137  15.16  17.29  \n2020-09-09  12.489156 -30.51  -4.05  \n2020-09-10   2.852110   4.45  10.93  \n2020-09-11  20.583084 -26.05   9.75  \n2020-09-14  22.777740 -28.48  44.67  \n2020-09-15  25.191558 -27.31  26.84  \n2020-09-16  16.599386 -33.55   2.51  \n"
    }
   ],
   "source": [
    "#Group by hour, day, month live paper trades only\n",
    "#NOTE in order to get this to work, you might have to conver the columns to date type in excel.\n",
    "\n",
    "df_Live_PaperTrades = df[df[\"Broker\"] == \"PaperTrade Broker\"]\n",
    "\n",
    "byHour = df_Live_PaperTrades.groupby(df_Live_PaperTrades[\"Entry Date\"].dt.hour)[\"Net P/L Amount\"].agg([np.ma.count, np.sum, np.mean, np.median, stats.mode, np.ptp, stats.iqr, np.std, \"min\", \"max\"])\n",
    "\n",
    "byDay = df_Live_PaperTrades.groupby(df_Live_PaperTrades[\"Entry Date\"].dt.date)[\"Net P/L Amount\"].agg([np.ma.count, np.sum, np.mean, np.median, stats.mode, np.ptp, stats.iqr, np.std, \"min\", \"max\"])\n",
    "\n",
    "byMonth = df_Live_PaperTrades.groupby(df_Live_PaperTrades[\"Entry Date\"].dt.month)[\"Net P/L Amount\"].agg([np.ma.count, np.sum, np.mean, np.median, stats.mode, np.ptp, stats.iqr, np.std, \"min\", \"max\"])\n",
    "\n",
    "print(byDay)"
   ]
  },
  {
   "cell_type": "code",
   "execution_count": 93,
   "metadata": {
    "tags": []
   },
   "outputs": [
    {
     "output_type": "error",
     "ename": "KeyError",
     "evalue": "'date'",
     "traceback": [
      "\u001b[0;31m---------------------------------------------------------------------------\u001b[0m",
      "\u001b[0;31mKeyError\u001b[0m                                  Traceback (most recent call last)",
      "\u001b[0;32m<ipython-input-93-7d289aa50ef2>\u001b[0m in \u001b[0;36m<module>\u001b[0;34m\u001b[0m\n\u001b[1;32m      1\u001b[0m \u001b[0;31m#Summary\u001b[0m\u001b[0;34m\u001b[0m\u001b[0;34m\u001b[0m\u001b[0;34m\u001b[0m\u001b[0m\n\u001b[1;32m      2\u001b[0m \u001b[0mTotalSum\u001b[0m \u001b[0;34m=\u001b[0m \u001b[0mdf_Live_PaperTrades\u001b[0m\u001b[0;34m[\u001b[0m\u001b[0;34m\"Net P/L Amount\"\u001b[0m\u001b[0;34m]\u001b[0m\u001b[0;34m.\u001b[0m\u001b[0msum\u001b[0m\u001b[0;34m(\u001b[0m\u001b[0;34m)\u001b[0m\u001b[0;34m\u001b[0m\u001b[0;34m\u001b[0m\u001b[0m\n\u001b[0;32m----> 3\u001b[0;31m \u001b[0mTotalWinSum\u001b[0m \u001b[0;34m=\u001b[0m \u001b[0mdf_Live_PaperTrades\u001b[0m\u001b[0;34m[\u001b[0m\u001b[0mdf_Live_PaperTrades\u001b[0m\u001b[0;34m[\u001b[0m\u001b[0;34m\"Net P/L Amount\"\u001b[0m\u001b[0;34m]\u001b[0m \u001b[0;34m<\u001b[0m \u001b[0;36m0\u001b[0m\u001b[0;34m]\u001b[0m\u001b[0;34m.\u001b[0m\u001b[0mgroupby\u001b[0m\u001b[0;34m(\u001b[0m\u001b[0;34m\"date\"\u001b[0m\u001b[0;34m)\u001b[0m\u001b[0;34m\u001b[0m\u001b[0;34m\u001b[0m\u001b[0m\n\u001b[0m\u001b[1;32m      4\u001b[0m \u001b[0mMean\u001b[0m \u001b[0;34m=\u001b[0m \u001b[0mdf_Live_PaperTrades\u001b[0m\u001b[0;34m[\u001b[0m\u001b[0;34m\"Net P/L Amount\"\u001b[0m\u001b[0;34m]\u001b[0m\u001b[0;34m.\u001b[0m\u001b[0mmean\u001b[0m\u001b[0;34m(\u001b[0m\u001b[0;34m)\u001b[0m\u001b[0;34m\u001b[0m\u001b[0;34m\u001b[0m\u001b[0m\n\u001b[1;32m      5\u001b[0m \u001b[0mprint\u001b[0m\u001b[0;34m(\u001b[0m\u001b[0mTotalWinSum\u001b[0m\u001b[0;34m)\u001b[0m\u001b[0;34m\u001b[0m\u001b[0;34m\u001b[0m\u001b[0m\n",
      "\u001b[0;32m~/opt/anaconda3/lib/python3.7/site-packages/pandas/core/frame.py\u001b[0m in \u001b[0;36mgroupby\u001b[0;34m(self, by, axis, level, as_index, sort, group_keys, squeeze, observed)\u001b[0m\n\u001b[1;32m   5808\u001b[0m             \u001b[0mgroup_keys\u001b[0m\u001b[0;34m=\u001b[0m\u001b[0mgroup_keys\u001b[0m\u001b[0;34m,\u001b[0m\u001b[0;34m\u001b[0m\u001b[0;34m\u001b[0m\u001b[0m\n\u001b[1;32m   5809\u001b[0m             \u001b[0msqueeze\u001b[0m\u001b[0;34m=\u001b[0m\u001b[0msqueeze\u001b[0m\u001b[0;34m,\u001b[0m\u001b[0;34m\u001b[0m\u001b[0;34m\u001b[0m\u001b[0m\n\u001b[0;32m-> 5810\u001b[0;31m             \u001b[0mobserved\u001b[0m\u001b[0;34m=\u001b[0m\u001b[0mobserved\u001b[0m\u001b[0;34m,\u001b[0m\u001b[0;34m\u001b[0m\u001b[0;34m\u001b[0m\u001b[0m\n\u001b[0m\u001b[1;32m   5811\u001b[0m         )\n\u001b[1;32m   5812\u001b[0m \u001b[0;34m\u001b[0m\u001b[0m\n",
      "\u001b[0;32m~/opt/anaconda3/lib/python3.7/site-packages/pandas/core/groupby/groupby.py\u001b[0m in \u001b[0;36m__init__\u001b[0;34m(self, obj, keys, axis, level, grouper, exclusions, selection, as_index, sort, group_keys, squeeze, observed, mutated)\u001b[0m\n\u001b[1;32m    407\u001b[0m                 \u001b[0msort\u001b[0m\u001b[0;34m=\u001b[0m\u001b[0msort\u001b[0m\u001b[0;34m,\u001b[0m\u001b[0;34m\u001b[0m\u001b[0;34m\u001b[0m\u001b[0m\n\u001b[1;32m    408\u001b[0m                 \u001b[0mobserved\u001b[0m\u001b[0;34m=\u001b[0m\u001b[0mobserved\u001b[0m\u001b[0;34m,\u001b[0m\u001b[0;34m\u001b[0m\u001b[0;34m\u001b[0m\u001b[0m\n\u001b[0;32m--> 409\u001b[0;31m                 \u001b[0mmutated\u001b[0m\u001b[0;34m=\u001b[0m\u001b[0mself\u001b[0m\u001b[0;34m.\u001b[0m\u001b[0mmutated\u001b[0m\u001b[0;34m,\u001b[0m\u001b[0;34m\u001b[0m\u001b[0;34m\u001b[0m\u001b[0m\n\u001b[0m\u001b[1;32m    410\u001b[0m             )\n\u001b[1;32m    411\u001b[0m \u001b[0;34m\u001b[0m\u001b[0m\n",
      "\u001b[0;32m~/opt/anaconda3/lib/python3.7/site-packages/pandas/core/groupby/grouper.py\u001b[0m in \u001b[0;36mget_grouper\u001b[0;34m(obj, key, axis, level, sort, observed, mutated, validate)\u001b[0m\n\u001b[1;32m    596\u001b[0m                 \u001b[0min_axis\u001b[0m\u001b[0;34m,\u001b[0m \u001b[0mname\u001b[0m\u001b[0;34m,\u001b[0m \u001b[0mlevel\u001b[0m\u001b[0;34m,\u001b[0m \u001b[0mgpr\u001b[0m \u001b[0;34m=\u001b[0m \u001b[0;32mFalse\u001b[0m\u001b[0;34m,\u001b[0m \u001b[0;32mNone\u001b[0m\u001b[0;34m,\u001b[0m \u001b[0mgpr\u001b[0m\u001b[0;34m,\u001b[0m \u001b[0;32mNone\u001b[0m\u001b[0;34m\u001b[0m\u001b[0;34m\u001b[0m\u001b[0m\n\u001b[1;32m    597\u001b[0m             \u001b[0;32melse\u001b[0m\u001b[0;34m:\u001b[0m\u001b[0;34m\u001b[0m\u001b[0;34m\u001b[0m\u001b[0m\n\u001b[0;32m--> 598\u001b[0;31m                 \u001b[0;32mraise\u001b[0m \u001b[0mKeyError\u001b[0m\u001b[0;34m(\u001b[0m\u001b[0mgpr\u001b[0m\u001b[0;34m)\u001b[0m\u001b[0;34m\u001b[0m\u001b[0;34m\u001b[0m\u001b[0m\n\u001b[0m\u001b[1;32m    599\u001b[0m         \u001b[0;32melif\u001b[0m \u001b[0misinstance\u001b[0m\u001b[0;34m(\u001b[0m\u001b[0mgpr\u001b[0m\u001b[0;34m,\u001b[0m \u001b[0mGrouper\u001b[0m\u001b[0;34m)\u001b[0m \u001b[0;32mand\u001b[0m \u001b[0mgpr\u001b[0m\u001b[0;34m.\u001b[0m\u001b[0mkey\u001b[0m \u001b[0;32mis\u001b[0m \u001b[0;32mnot\u001b[0m \u001b[0;32mNone\u001b[0m\u001b[0;34m:\u001b[0m\u001b[0;34m\u001b[0m\u001b[0;34m\u001b[0m\u001b[0m\n\u001b[1;32m    600\u001b[0m             \u001b[0;31m# Add key to exclusions\u001b[0m\u001b[0;34m\u001b[0m\u001b[0;34m\u001b[0m\u001b[0;34m\u001b[0m\u001b[0m\n",
      "\u001b[0;31mKeyError\u001b[0m: 'date'"
     ]
    }
   ],
   "source": [
    "#Summary\n",
    "TotalSum = df_Live_PaperTrades[\"Net P/L Amount\"].sum()\n",
    "TotalWinSum = df_Live_PaperTrades[df_Live_PaperTrades[\"Net P/L Amount\"] < 0].groupby(\"date\")\n",
    "Mean = df_Live_PaperTrades[\"Net P/L Amount\"].mean()\n",
    "print(TotalWinSum)"
   ]
  },
  {
   "cell_type": "code",
   "execution_count": null,
   "metadata": {},
   "outputs": [],
   "source": []
  }
 ]
}