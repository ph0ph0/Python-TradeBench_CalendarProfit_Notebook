{
 "metadata": {
  "language_info": {
   "codemirror_mode": {
    "name": "ipython",
    "version": 3
   },
   "file_extension": ".py",
   "mimetype": "text/x-python",
   "name": "python",
   "nbconvert_exporter": "python",
   "pygments_lexer": "ipython3",
   "version": "3.7.6-final"
  },
  "orig_nbformat": 2,
  "kernelspec": {
   "name": "python_defaultSpec_1597850661941",
   "display_name": "Python 3.7.6 64-bit ('anaconda3': virtualenv)"
  }
 },
 "nbformat": 4,
 "nbformat_minor": 2,
 "cells": [
  {
   "cell_type": "markdown",
   "metadata": {},
   "source": [
    " # Daily Profit for Trades in TradeBench"
   ]
  },
  {
   "cell_type": "code",
   "execution_count": 6,
   "metadata": {
    "tags": []
   },
   "outputs": [
    {
     "output_type": "stream",
     "name": "stdout",
     "text": "Python Version: 3.7.6 (default, Jan  8 2020, 13:42:34) \n[Clang 4.0.1 (tags/RELEASE_401/final)]\nPandas Version: 1.0.1\nMatplotlib Version: 3.1.3\n"
    }
   ],
   "source": [
    "import numpy as np\n",
    "import pandas as pd\n",
    "import matplotlib.pyplot as plt\n",
    "import sys  # Only needed to determine Python version\n",
    "import matplotlib  # Only needed to determine Matplotlib version number\n",
    "import chardet\n",
    "from datetime import date\n",
    "from pandas import DataFrame\n",
    "from scipy import stats\n",
    "import seaborn as sns\n",
    "\n",
    "# Enable inline plotting\n",
    "# %matplotlib inline\n",
    "\n",
    "print('Python Version: ' + sys.version)\n",
    "print('Pandas Version: ' + pd.__version__)\n",
    "print('Matplotlib Version: ' + matplotlib.__version__)"
   ]
  },
  {
   "cell_type": "code",
   "execution_count": null,
   "metadata": {},
   "outputs": [],
   "source": []
  }
 ]
}