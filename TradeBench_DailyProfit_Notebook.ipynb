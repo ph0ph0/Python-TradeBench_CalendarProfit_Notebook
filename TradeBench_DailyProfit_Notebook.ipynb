{
 "metadata": {
  "language_info": {
   "codemirror_mode": {
    "name": "ipython",
    "version": 3
   },
   "file_extension": ".py",
   "mimetype": "text/x-python",
   "name": "python",
   "nbconvert_exporter": "python",
   "pygments_lexer": "ipython3",
   "version": "3.7.6-final"
  },
  "orig_nbformat": 2,
  "kernelspec": {
   "name": "python_defaultSpec_1597850661941",
   "display_name": "Python 3.7.6 64-bit ('anaconda3': virtualenv)"
  }
 },
 "nbformat": 4,
 "nbformat_minor": 2,
 "cells": [
  {
   "cell_type": "markdown",
   "metadata": {},
   "source": [
    " # Daily Profit for Trades in TradeBench"
   ]
  },
  {
   "cell_type": "code",
   "execution_count": 138,
   "metadata": {
    "tags": []
   },
   "outputs": [
    {
     "output_type": "stream",
     "name": "stdout",
     "text": "Python Version: 3.7.6 (default, Jan  8 2020, 13:42:34) \n[Clang 4.0.1 (tags/RELEASE_401/final)]\nPandas Version: 1.0.1\nMatplotlib Version: 3.1.3\n"
    }
   ],
   "source": [
    "import numpy as np\n",
    "import pandas as pd\n",
    "import matplotlib.pyplot as plt\n",
    "import sys  # Only needed to determine Python version\n",
    "import matplotlib  # Only needed to determine Matplotlib version number\n",
    "import chardet\n",
    "from datetime import date\n",
    "from pandas import DataFrame\n",
    "from scipy import stats\n",
    "import seaborn as sns\n",
    "\n",
    "# Enable inline plotting\n",
    "# %matplotlib inline\n",
    "\n",
    "print('Python Version: ' + sys.version)\n",
    "print('Pandas Version: ' + pd.__version__)\n",
    "print('Matplotlib Version: ' + matplotlib.__version__)"
   ]
  },
  {
   "cell_type": "code",
   "execution_count": 139,
   "metadata": {
    "tags": []
   },
   "outputs": [
    {
     "output_type": "stream",
     "name": "stdout",
     "text": "Index(['Symbol', 'Name', 'Long/Short', 'Plan Date', 'Entry (first) Date',\n       'Entry (first) Time', 'Exit (last) Date', 'Exit (last) Time',\n       'Quantity', 'Avg. Entry', 'Avg. Exit', 'Entry Commission',\n       'Exit Commission', 'Net P/L Amount', 'Net P/L %', 'Broker', 'Strategy',\n       'Planned Stop Loss Price', 'First Stop Loss Price',\n       'Trade Plan Description', 'Label 1', 'Label 2', 'Label 3', 'Label 4'],\n      dtype='object')\n"
    }
   ],
   "source": [
    "#/Users/<USERNAME>/<CSV_LOCATION>.csv\n",
    "CSV_Location = r'/Users/Pho/Documents/Dev/DayTrading/TradingAnalysisScripts/TradeBenchCSV/2020-08-19-TradeBench-closed-trades-export-3.csv'\n",
    "\n",
    "df = pd.read_csv(CSV_Location, encoding = \"ISO-8859-1\")\n",
    "\n",
    "del df[\"Post Trade Analysis\"]\n",
    "\n",
    "print(df.columns)"
   ]
  },
  {
   "cell_type": "code",
   "execution_count": 140,
   "metadata": {
    "tags": []
   },
   "outputs": [
    {
     "output_type": "stream",
     "name": "stdout",
     "text": "0    2020-08-10 14:37:00\n1    2020-08-10 15:26:00\n2    2020-08-11 14:41:00\n3    2020-08-11 14:46:00\n4    2020-08-11 14:54:00\n5    2020-08-11 14:59:00\n6    2020-08-12 14:37:00\n7    2020-08-12 14:54:00\n8    2020-08-12 15:06:00\n9    2020-08-12 15:06:00\n10   2020-08-14 14:30:00\n11   2020-08-17 14:31:00\n12   2020-08-17 14:31:00\n13   2020-08-17 15:15:00\n14   2020-08-17 15:33:00\n15   2020-08-10 14:36:00\n16   2020-08-18 14:33:00\n17   2020-08-18 14:49:00\n18   2020-08-18 14:54:00\n19   2020-08-18 14:59:00\n20   2020-08-18 15:05:00\n21   2020-08-10 14:42:00\n22   2020-08-10 14:46:00\n23   2020-08-10 14:36:00\nName: Entry Date, dtype: datetime64[ns]\n"
    }
   ],
   "source": [
    "# Combine dates and times together\n",
    "df[\"Entry Date\"] = df[\"Entry (first) Date\"].astype(str) + \" \" + df[\"Entry (first) Time\"].astype(str)\n",
    "df[\"Exit Date\"] = df[\"Exit (last) Date\"].astype(str) + \" \" + df[\"Exit (last) Time\"].astype(str)\n",
    "\n",
    "df[\"Entry Date\"] = df[\"Entry Date\"].astype(str)\n",
    "#print(df[\"Entry Date\"])\n",
    "\n",
    "Location2 = f'/Users/Pho/Documents/Dev/DayTrading/TradingAnalysisScripts/TradeBenchCSV/ting.csv'\n",
    "df.to_csv(Location2)\n",
    "\n",
    "df[\"Entry Date\"] = pd.to_datetime(df[\"Entry Date\"], format=\"%d/%m/%Y %H:%M:%S\")\n",
    "df[\"Exit Date\"] = pd.to_datetime(df[\"Exit Date\"], format=\"%d/%m/%Y %H:%M:%S\")\n",
    "\n",
    "#print(df.info(verbose = True))\n",
    "print(df[\"Entry Date\"])"
   ]
  },
  {
   "cell_type": "code",
   "execution_count": 144,
   "metadata": {
    "tags": []
   },
   "outputs": [
    {
     "output_type": "stream",
     "name": "stdout",
     "text": "count    sum    mean  median             mode    ptp      iqr  \\\nEntry Date                                                                  \n10            2.0  -6.92 -3.4600  -3.460  ([-20.55], [1])  34.18  17.0900   \n11            4.0  16.21  4.0525   4.790    ([0.62], [1])   5.39   1.8725   \n12            4.0  23.69  5.9225   8.370  ([-27.09], [1])  61.13  28.3625   \n14            1.0   1.05  1.0500   1.050    ([1.05], [1])   0.00   0.0000   \n17            4.0 -26.93 -6.7325  -0.765   ([-25.7], [1])  26.00   7.1825   \n18            5.0  20.35  4.0700  -2.950  ([-28.39], [1])  73.84  55.0600   \n\n                  std    min    max  \nEntry Date                           \n10          24.168910 -20.55  13.63  \n11           2.376740   0.62   6.01  \n12          26.105403 -27.09  34.04  \n14                NaN   1.05   1.05  \n17          12.660414 -25.70   0.30  \n18          32.912168 -28.39  45.45  \n"
    }
   ],
   "source": [
    "#Group by hour, day, month live paper trades only\n",
    "\n",
    "df_Live_PaperTrades = df[df[\"Broker\"] == \"PaperTrade Broker\"]\n",
    "\n",
    "byHour = df_Live_PaperTrades.groupby(df_Live_PaperTrades[\"Entry Date\"].dt.hour)[\"Net P/L Amount\"].agg([np.ma.count, np.sum, np.mean, np.median, stats.mode, np.ptp, stats.iqr, np.std, \"min\", \"max\"])\n",
    "\n",
    "byDay = df_Live_PaperTrades.groupby(df_Live_PaperTrades[\"Entry Date\"].dt.day)[\"Net P/L Amount\"].agg([np.ma.count, np.sum, np.mean, np.median, stats.mode, np.ptp, stats.iqr, np.std, \"min\", \"max\"])\n",
    "\n",
    "byMonth = df_Live_PaperTrades.groupby(df_Live_PaperTrades[\"Entry Date\"].dt.month)[\"Net P/L Amount\"].agg([np.ma.count, np.sum, np.mean, np.median, stats.mode, np.ptp, stats.iqr, np.std, \"min\", \"max\"])\n",
    "\n",
    "print(byDay)"
   ]
  },
  {
   "cell_type": "code",
   "execution_count": null,
   "metadata": {},
   "outputs": [],
   "source": []
  }
 ]
}